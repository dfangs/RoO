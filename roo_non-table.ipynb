{
 "cells": [
  {
   "cell_type": "code",
   "execution_count": 2,
   "metadata": {},
   "outputs": [],
   "source": [
    "from collections import Counter\n",
    "import os\n",
    "import re\n",
    "\n",
    "import pprint"
   ]
  },
  {
   "cell_type": "code",
   "execution_count": 3,
   "metadata": {},
   "outputs": [],
   "source": [
    "# Read RoO data\n",
    "roo_text = {}\n",
    "\n",
    "roo_folder = 'RoO Non-table/roo_clean'\n",
    "for filename in os.listdir(roo_folder):\n",
    "    with open(roo_folder + '/' + filename, mode='r', encoding='ANSI') as f:\n",
    "        roo_text[filename[:-4]] = f.read().replace('–', '-')"
   ]
  },
  {
   "cell_type": "code",
   "execution_count": 4,
   "metadata": {},
   "outputs": [
    {
     "name": "stdout",
     "output_type": "stream",
     "text": [
      "BRN_JPN 21\n",
      "CHL_JPN 21\n",
      "IDN_JPN 21\n",
      "IND_JPN 17\n",
      "JPN_MEX 21\n",
      "JPN_MYS 21\n",
      "JPN_PER 21\n",
      "JPN_PHL 21\n",
      "JPN_THA 21\n"
     ]
    }
   ],
   "source": [
    "# Check how many sections within the RoO\n",
    "# Apparently India is missing some sections: X, XIV, XIX, XXI\n",
    "pattern_count = re.compile('Section [IVX]{1,5}')\n",
    "for fta, rule in roo_text.items():\n",
    "    print(fta, len(pattern_count.findall(rule)))\n",
    "\n",
    "# Clean some misconverted HS code\n",
    "def addZero(matchobj):\n",
    "    \"\"\"Example: Instead of 21.6, which is a wrong HS code, return 21.06\"\"\"\n",
    "    hs_code = matchobj[0]\n",
    "    return hs_code[:-1] + '0' + hs_code[-1]\n",
    "\n",
    "pattern_zero = re.compile(r'\\s\\d{1,2}\\.\\d\\b')\n",
    "for fta, rule in roo_text.items():\n",
    "    roo_text[fta] = pattern_zero.sub(addZero, rule)"
   ]
  },
  {
   "cell_type": "code",
   "execution_count": 5,
   "metadata": {
    "scrolled": true
   },
   "outputs": [
    {
     "name": "stdout",
     "output_type": "stream",
     "text": [
      "BRN_JPN 357\n",
      "CHL_JPN 665\n",
      "IDN_JPN 348\n",
      "IND_JPN 377\n",
      "JPN_MEX 814\n",
      "JPN_MYS 336\n",
      "JPN_PER 444\n",
      "JPN_PHL 716\n",
      "JPN_THA 726\n"
     ]
    }
   ],
   "source": [
    "# Dictionary storing the whole structure of RoO\n",
    "roo = {}\n",
    "\n",
    "# Capture sections\n",
    "pattern_section = re.compile(r'(Section [IVX]{1,5})\\s+(.+?)(?=Section|\\Z)', flags=re.DOTALL)\n",
    "for fta, rule in roo_text.items():\n",
    "    result = pattern_section.findall(rule)\n",
    "    roo[fta] = {group[0]: group[1] for group in result}\n",
    "\n",
    "# Capture chapters in every section\n",
    "pattern_chapter = re.compile(r'(Chapter \\d{1,2})\\s+(.+?)(?=Chapter|\\Z)', flags=re.DOTALL)\n",
    "for fta in roo:\n",
    "    for section, rule in roo[fta].items():\n",
    "        result = pattern_chapter.findall(rule)\n",
    "        roo[fta][section] = {group[0]: group[1] for group in result}\n",
    "\n",
    "# Capture rules in every chapter\n",
    "HS_CODE = r'(\\d+\\.\\d+(?:\\-\\d+\\.\\d+)?)'\n",
    "pattern_rule = re.compile(HS_CODE + r'\\s+([A-Z].+?\\.)(?=\\s+' + HS_CODE + r'|\\s*\\Z)', flags=re.DOTALL)\n",
    "for fta in roo:\n",
    "    for section in roo[fta]:\n",
    "        for chapter, rule in roo[fta][section].items():\n",
    "            result = pattern_rule.findall(rule)\n",
    "            roo[fta][section][chapter] = {group[0]: group[1] for group in result}\n",
    "\n",
    "# Create a dictionary which only stores the rules without additional stuctures\n",
    "roo_rules = {fta: {} for fta in roo}\n",
    "for fta in roo:\n",
    "    for section in roo[fta]:\n",
    "        for chapter in roo[fta][section]:\n",
    "            for hs_code, rule in roo[fta][section][chapter].items():\n",
    "                roo_rules[fta][hs_code] = rule\n",
    "\n",
    "for fta in roo_rules:\n",
    "    print(fta, len(roo_rules[fta]))"
   ]
  },
  {
   "cell_type": "code",
   "execution_count": 10,
   "metadata": {},
   "outputs": [
    {
     "name": "stdout",
     "output_type": "stream",
     "text": [
      "BRN_JPN\n",
      "Counter({'chapter': 136,\n",
      "         'subheading': 131,\n",
      "         'heading': 56,\n",
      "         'wholly': 31,\n",
      "         'value': 3})\n",
      "CHL_JPN\n",
      "Counter({'heading': 303,\n",
      "         'chapter': 181,\n",
      "         'subheading': 149,\n",
      "         'wholly': 23,\n",
      "         'no rule': 8,\n",
      "         'value': 1})\n",
      "IDN_JPN\n",
      "Counter({'chapter': 168,\n",
      "         'subheading': 101,\n",
      "         'heading': 78,\n",
      "         'wholly': 1})\n",
      "IND_JPN\n",
      "Counter({'heading': 278,\n",
      "         'wholly': 44,\n",
      "         'chapter': 31,\n",
      "         'manufacture': 23,\n",
      "         'subheading': 1})\n",
      "JPN_MEX\n",
      "Counter({'heading': 464,\n",
      "         'chapter': 190,\n",
      "         'subheading': 151,\n",
      "         'value': 8,\n",
      "         'else': 1})\n",
      "JPN_MYS\n",
      "Counter({'chapter': 140,\n",
      "         'heading': 100,\n",
      "         'subheading': 88,\n",
      "         'value': 8})\n",
      "JPN_PER\n",
      "Counter({'heading': 181,\n",
      "         'chapter': 145,\n",
      "         'subheading': 85,\n",
      "         'wholly': 28,\n",
      "         'value': 5})\n",
      "JPN_PHL\n",
      "Counter({'heading': 268,\n",
      "         'chapter': 208,\n",
      "         'subheading': 198,\n",
      "         'wholly': 36,\n",
      "         'value': 6})\n",
      "JPN_THA\n",
      "Counter({'heading': 304,\n",
      "         'subheading': 205,\n",
      "         'chapter': 184,\n",
      "         'wholly': 29,\n",
      "         'value': 4})\n"
     ]
    }
   ],
   "source": [
    "# Count types of RoO in every FTA\n",
    "roo_types_count = {}\n",
    "\n",
    "for fta in roo_rules:\n",
    "    freq = Counter()\n",
    "    for hs_code, rule in roo_rules[fta].items():\n",
    "        # Chapter level\n",
    "        if 'any other chapter' in rule or 'from any chapter' in rule or 'any\\nother chapter' in rule:\n",
    "            freq['chapter'] += 1\n",
    "        \n",
    "        # Heading level\n",
    "        elif 'any other heading' in rule or 'from any heading' in rule or 'any\\nother heading' in rule or \\\n",
    "             'from any heading outside that group' in rule:\n",
    "            freq['heading'] += 1\n",
    "        \n",
    "        # Subheading level\n",
    "        # Note: There are a few specific rules related to chemicals (e.g. alkali metal; \"or any other subheading\")\n",
    "        elif 'any other subheading' in rule or 'subheading outside that group' in rule:\n",
    "            freq['subheading'] += 1\n",
    "            \n",
    "        # \"Wholly obtained\"\n",
    "        elif 'are wholly' in rule:\n",
    "            freq['wholly'] += 1\n",
    "\n",
    "        # Manufacture criteria?\n",
    "        elif 'Manufacture from' in rule:\n",
    "            freq['manufacture'] += 1\n",
    "        \n",
    "        # Value added?\n",
    "        elif 'A qualifying value content of not less than' in rule or 'value content' in rule:\n",
    "            freq['value'] += 1\n",
    "            \n",
    "        # No rules imposed, unless...\n",
    "        elif 'No required change in tariff' in rule or 'No change in tariff' in rule:\n",
    "            freq['no rule'] += 1\n",
    "        \n",
    "        # Other notes\n",
    "        else:\n",
    "            freq['else'] += 1\n",
    "            \n",
    "    roo_types_count[fta] = freq\n",
    "    print(fta)\n",
    "    pprint.pprint(freq, width=35)"
   ]
  },
  {
   "cell_type": "code",
   "execution_count": 9,
   "metadata": {
    "scrolled": true
   },
   "outputs": [
    {
     "name": "stdout",
     "output_type": "stream",
     "text": [
      "FTA\t\tChapter\t\tHeading\t\tSubheading\tOther\t\tTotal\n",
      "BRN_JPN\t\t38.10%\t\t15.69%\t\t36.69%\t\t9.52%\t\t357\n",
      "CHL_JPN\t\t27.22%\t\t45.56%\t\t22.41%\t\t4.81%\t\t665\n",
      "IDN_JPN\t\t48.28%\t\t22.41%\t\t29.02%\t\t0.29%\t\t348\n",
      "IND_JPN\t\t8.22%\t\t73.74%\t\t0.27%\t\t17.77%\t\t377\n",
      "JPN_MEX\t\t23.34%\t\t57.00%\t\t18.55%\t\t1.11%\t\t814\n",
      "JPN_MYS\t\t41.67%\t\t29.76%\t\t26.19%\t\t2.38%\t\t336\n",
      "JPN_PER\t\t32.66%\t\t40.77%\t\t19.14%\t\t7.43%\t\t444\n",
      "JPN_PHL\t\t29.05%\t\t37.43%\t\t27.65%\t\t5.87%\t\t716\n",
      "JPN_THA\t\t25.34%\t\t41.87%\t\t28.24%\t\t4.55%\t\t726\n"
     ]
    }
   ],
   "source": [
    "print('FTA\\t\\tChapter\\t\\tHeading\\t\\tSubheading\\tOther\\t\\tTotal')\n",
    "for fta, rules in roo_rules.items():\n",
    "    total = len(rules)\n",
    "    chapter = roo_types_count[fta]['chapter'] / total\n",
    "    heading = roo_types_count[fta]['heading'] / total\n",
    "    subheading = roo_types_count[fta]['subheading'] / total\n",
    "    other = 1 - (chapter + heading + subheading)\n",
    "    print('{}\\t\\t{:2.2%}\\t\\t{:2.2%}\\t\\t{:2.2%}\\t\\t{:2.2%}\\t\\t{}'.format(fta, chapter, heading, subheading, other, total))"
   ]
  }
 ],
 "metadata": {
  "kernelspec": {
   "display_name": "Python 3",
   "language": "python",
   "name": "python3"
  },
  "language_info": {
   "codemirror_mode": {
    "name": "ipython",
    "version": 3
   },
   "file_extension": ".py",
   "mimetype": "text/x-python",
   "name": "python",
   "nbconvert_exporter": "python",
   "pygments_lexer": "ipython3",
   "version": "3.7.3"
  }
 },
 "nbformat": 4,
 "nbformat_minor": 2
}
